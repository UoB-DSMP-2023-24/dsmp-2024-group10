{
 "cells": [
  {
   "cell_type": "code",
   "execution_count": 267,
   "metadata": {},
   "outputs": [],
   "source": [
    "import pandas as pd \n",
    "df = pd.read_csv('vdjdb.txt',sep='\\t')\n",
    "df = df.drop(['method', 'meta','cdr3fix','web.method','web.method.seq','web.cdr3fix.nc','web.cdr3fix.unmp',\"reference.id\"], axis=1)\n",
    "df = df.drop([\"mhc.class\",\"j.segm\"], axis=1)\n",
    "df = df[df['antigen.gene'] != 'Nef']"
   ]
  },
  {
   "cell_type": "code",
   "execution_count": 255,
   "metadata": {},
   "outputs": [],
   "source": [
    "def classify_hla_allele(allele):\n",
    "    if allele.startswith('HLA-A'):\n",
    "        return 'HLA-A'\n",
    "    elif allele.startswith('HLA-B'):\n",
    "        return 'HLA-B'\n",
    "    elif allele.startswith('HLA-C'):\n",
    "        return 'HLA-C'\n",
    "    elif allele.startswith('HLA-DPA') or allele.startswith('HLA-DPB'):\n",
    "        return 'HLA-DP'\n",
    "    elif allele.startswith('HLA-DQA') or allele.startswith('HLA-DQB'):\n",
    "        return 'HLA-DQ'\n",
    "    elif allele.startswith('HLA-DR'):\n",
    "        return 'HLA-DR'\n",
    "    elif allele.startswith('H-2'):\n",
    "        return 'H-2 (Mouse)'\n",
    "    else:\n",
    "        return 'Other'\n",
    "\n",
    "# Assuming you have a dataframe `df` with an 'allele' column\n",
    "df['mhc.a'] = df['mhc.a'].apply(classify_hla_allele)"
   ]
  },
  {
   "cell_type": "code",
   "execution_count": 256,
   "metadata": {},
   "outputs": [],
   "source": [
    "def classify_allele(allele):\n",
    "    if 'HLA-DRB1' in allele:\n",
    "        return 'DRB1'\n",
    "    elif 'HLA-DQB1' in allele:\n",
    "        return 'DQB1'\n",
    "    elif 'HLA-DPB1' in allele or 'HLA-DPB' in allele:\n",
    "        return 'DPB1'\n",
    "    elif 'HLA-DRB3' in allele:\n",
    "        return 'DRB3'\n",
    "    elif 'B2M' in allele:\n",
    "        return 'B2M'\n",
    "    elif 'H-2' in allele:\n",
    "        return 'H-2'\n",
    "    else:\n",
    "        return 'Other'\n",
    "    \n",
    "# Apply classification\n",
    "df['mhc.b'] = df['mhc.b'].apply(classify_allele)"
   ]
  },
  {
   "cell_type": "code",
   "execution_count": 257,
   "metadata": {},
   "outputs": [
    {
     "data": {
      "text/plain": [
       "12157"
      ]
     },
     "execution_count": 257,
     "metadata": {},
     "output_type": "execute_result"
    }
   ],
   "source": [
    "df=df[df['vdjdb.score'].isin([1,2,3])]\n",
    "df_f=df[df['vdjdb.score'].isin([1,2,3])]\n",
    "df=df.drop('vdjdb.score', axis=1)\n",
    "len(df)"
   ]
  },
  {
   "cell_type": "code",
   "execution_count": 258,
   "metadata": {},
   "outputs": [
    {
     "name": "stdout",
     "output_type": "stream",
     "text": [
      "8296 3861\n"
     ]
    }
   ],
   "source": [
    "df_A= df_f[df_f['gene']=='TRA']\n",
    "df_A = df_A.drop('complex.id', axis=1)\n",
    "df_A = df_A.drop('vdjdb.score', axis=1)\n",
    "df_B= df_f[df_f['gene']=='TRB']\n",
    "df_B = df_B.drop('complex.id', axis=1)\n",
    "df_B = df_B.drop('vdjdb.score', axis=1)\n",
    "print(len(df_B), len(df_A))"
   ]
  },
  {
   "cell_type": "code",
   "execution_count": 259,
   "metadata": {},
   "outputs": [
    {
     "data": {
      "text/plain": [
       "2947"
      ]
     },
     "execution_count": 259,
     "metadata": {},
     "output_type": "execute_result"
    }
   ],
   "source": [
    "v_segm_trb = df.loc[(df['gene'] == 'TRB') & (df['complex.id'] > 0), 'v.segm'].values\n",
    "len(v_segm_trb)"
   ]
  },
  {
   "cell_type": "code",
   "execution_count": 260,
   "metadata": {},
   "outputs": [],
   "source": [
    "# Define a custom aggregation function to concatenate strings without a delimiter\n",
    "def combine_cdr3(x):\n",
    "    return ''.join(x)\n",
    "\n",
    "# Combine 'cdr3' values for each 'complex.id' without a delimiter\n",
    "df['combined_cdr3'] = df.groupby('complex.id')['cdr3'].transform(combine_cdr3)\n",
    "\n",
    "# Drop the original 'cdr3' column\n",
    "df.drop(columns=['cdr3'], inplace=True)\n",
    "\n",
    "# Drop duplicate rows\n",
    "df.drop_duplicates(subset=['complex.id'], keep='first', inplace=True)\n",
    "\n",
    "# Move the 'combined_cdr3' column to the first position\n",
    "cols = df.columns.tolist()\n",
    "cols = ['combined_cdr3'] + [col for col in cols if col != 'combined_cdr3']\n",
    "df = df[cols]\n",
    "\n",
    "# Reset index\n",
    "df.reset_index(drop=True, inplace=True)"
   ]
  },
  {
   "cell_type": "code",
   "execution_count": 261,
   "metadata": {},
   "outputs": [
    {
     "data": {
      "text/html": [
       "<div>\n",
       "<style scoped>\n",
       "    .dataframe tbody tr th:only-of-type {\n",
       "        vertical-align: middle;\n",
       "    }\n",
       "\n",
       "    .dataframe tbody tr th {\n",
       "        vertical-align: top;\n",
       "    }\n",
       "\n",
       "    .dataframe thead th {\n",
       "        text-align: right;\n",
       "    }\n",
       "</style>\n",
       "<table border=\"1\" class=\"dataframe\">\n",
       "  <thead>\n",
       "    <tr style=\"text-align: right;\">\n",
       "      <th></th>\n",
       "      <th>combined_cdr3</th>\n",
       "      <th>complex.id</th>\n",
       "      <th>gene</th>\n",
       "      <th>v.segm</th>\n",
       "      <th>species</th>\n",
       "      <th>mhc.a</th>\n",
       "      <th>mhc.b</th>\n",
       "      <th>antigen.epitope</th>\n",
       "      <th>antigen.gene</th>\n",
       "      <th>antigen.species</th>\n",
       "    </tr>\n",
       "  </thead>\n",
       "  <tbody>\n",
       "    <tr>\n",
       "      <th>1</th>\n",
       "      <td>CAVAGYGGSQGNLIFCASSPQGLGTEAFF</td>\n",
       "      <td>15</td>\n",
       "      <td>TRA</td>\n",
       "      <td>TRBV28*01</td>\n",
       "      <td>HomoSapiens</td>\n",
       "      <td>HLA-A</td>\n",
       "      <td>B2M</td>\n",
       "      <td>ELAGIGILTV</td>\n",
       "      <td>MLANA</td>\n",
       "      <td>HomoSapiens</td>\n",
       "    </tr>\n",
       "    <tr>\n",
       "      <th>2</th>\n",
       "      <td>CIVKTNSGGSNYKLTFCASSFEETQYF</td>\n",
       "      <td>77</td>\n",
       "      <td>TRA</td>\n",
       "      <td>TRBV7-2*01</td>\n",
       "      <td>HomoSapiens</td>\n",
       "      <td>HLA-DQ</td>\n",
       "      <td>DQB1</td>\n",
       "      <td>TAAQAAVVRFQEAAN</td>\n",
       "      <td>CFP10</td>\n",
       "      <td>M.tuberculosis</td>\n",
       "    </tr>\n",
       "    <tr>\n",
       "      <th>3</th>\n",
       "      <td>CIVHTNSGGSNYKLTFCASSPEETQYF</td>\n",
       "      <td>78</td>\n",
       "      <td>TRA</td>\n",
       "      <td>TRBV7-2*01</td>\n",
       "      <td>HomoSapiens</td>\n",
       "      <td>HLA-DQ</td>\n",
       "      <td>DQB1</td>\n",
       "      <td>TAAQAAVVRFQEAAN</td>\n",
       "      <td>CFP10</td>\n",
       "      <td>M.tuberculosis</td>\n",
       "    </tr>\n",
       "    <tr>\n",
       "      <th>4</th>\n",
       "      <td>CIEHTNSGGSNYKLTFCASSLEETQYF</td>\n",
       "      <td>79</td>\n",
       "      <td>TRA</td>\n",
       "      <td>TRBV7-2*01</td>\n",
       "      <td>HomoSapiens</td>\n",
       "      <td>HLA-DQ</td>\n",
       "      <td>DQB1</td>\n",
       "      <td>TAAQAAVVRFQEAAN</td>\n",
       "      <td>CFP10</td>\n",
       "      <td>M.tuberculosis</td>\n",
       "    </tr>\n",
       "    <tr>\n",
       "      <th>5</th>\n",
       "      <td>CAVGGLSGANSKLTFCASSVALAGAEYF</td>\n",
       "      <td>80</td>\n",
       "      <td>TRA</td>\n",
       "      <td>TRBV9*01</td>\n",
       "      <td>HomoSapiens</td>\n",
       "      <td>HLA-DR</td>\n",
       "      <td>DRB1</td>\n",
       "      <td>MHVSFVMAYPEMLAA</td>\n",
       "      <td>Rv1195</td>\n",
       "      <td>M.tuberculosis</td>\n",
       "    </tr>\n",
       "    <tr>\n",
       "      <th>...</th>\n",
       "      <td>...</td>\n",
       "      <td>...</td>\n",
       "      <td>...</td>\n",
       "      <td>...</td>\n",
       "      <td>...</td>\n",
       "      <td>...</td>\n",
       "      <td>...</td>\n",
       "      <td>...</td>\n",
       "      <td>...</td>\n",
       "      <td>...</td>\n",
       "    </tr>\n",
       "    <tr>\n",
       "      <th>2943</th>\n",
       "      <td>CIALNARLMFCASSLRATDTQYF</td>\n",
       "      <td>30550</td>\n",
       "      <td>TRA</td>\n",
       "      <td>TRBV7-2*01</td>\n",
       "      <td>HomoSapiens</td>\n",
       "      <td>HLA-DQ</td>\n",
       "      <td>DQB1</td>\n",
       "      <td>PQPELPYPQPQL</td>\n",
       "      <td>Gluten</td>\n",
       "      <td>Wheat</td>\n",
       "    </tr>\n",
       "    <tr>\n",
       "      <th>2944</th>\n",
       "      <td>CAMREGRYSSASKIIFCATSRAGGGGEKLFF</td>\n",
       "      <td>30551</td>\n",
       "      <td>TRA</td>\n",
       "      <td>TRBV15*01</td>\n",
       "      <td>HomoSapiens</td>\n",
       "      <td>HLA-DQ</td>\n",
       "      <td>DQB1</td>\n",
       "      <td>FPQPEQPFPWQP</td>\n",
       "      <td>Gluten</td>\n",
       "      <td>Wheat</td>\n",
       "    </tr>\n",
       "    <tr>\n",
       "      <th>2945</th>\n",
       "      <td>CLVGDGDGGATNKLIFCASSQGSGGNEQFF</td>\n",
       "      <td>30552</td>\n",
       "      <td>TRA</td>\n",
       "      <td>TRBV4-3*01</td>\n",
       "      <td>HomoSapiens</td>\n",
       "      <td>HLA-DQ</td>\n",
       "      <td>DQB1</td>\n",
       "      <td>FPQPEQPFPWQP</td>\n",
       "      <td>Gluten</td>\n",
       "      <td>Wheat</td>\n",
       "    </tr>\n",
       "    <tr>\n",
       "      <th>2946</th>\n",
       "      <td>CAASVLYGSSNTGKLIFCASSIVGSGGYNEQFF</td>\n",
       "      <td>30554</td>\n",
       "      <td>TRA</td>\n",
       "      <td>TRBV19*01</td>\n",
       "      <td>HomoSapiens</td>\n",
       "      <td>HLA-DQ</td>\n",
       "      <td>DQB1</td>\n",
       "      <td>QLQPFPQPELPY</td>\n",
       "      <td>Gluten</td>\n",
       "      <td>Wheat</td>\n",
       "    </tr>\n",
       "    <tr>\n",
       "      <th>2947</th>\n",
       "      <td>CAPQGATNKLIFCASSLGAGGQETQYF</td>\n",
       "      <td>30593</td>\n",
       "      <td>TRA</td>\n",
       "      <td>TRBV5-1*01</td>\n",
       "      <td>HomoSapiens</td>\n",
       "      <td>HLA-DQ</td>\n",
       "      <td>DQB1</td>\n",
       "      <td>PQQPFPQPEQPFP</td>\n",
       "      <td>Gluten</td>\n",
       "      <td>Wheat</td>\n",
       "    </tr>\n",
       "  </tbody>\n",
       "</table>\n",
       "<p>2947 rows × 10 columns</p>\n",
       "</div>"
      ],
      "text/plain": [
       "                          combined_cdr3  complex.id gene      v.segm  \\\n",
       "1         CAVAGYGGSQGNLIFCASSPQGLGTEAFF          15  TRA   TRBV28*01   \n",
       "2           CIVKTNSGGSNYKLTFCASSFEETQYF          77  TRA  TRBV7-2*01   \n",
       "3           CIVHTNSGGSNYKLTFCASSPEETQYF          78  TRA  TRBV7-2*01   \n",
       "4           CIEHTNSGGSNYKLTFCASSLEETQYF          79  TRA  TRBV7-2*01   \n",
       "5          CAVGGLSGANSKLTFCASSVALAGAEYF          80  TRA    TRBV9*01   \n",
       "...                                 ...         ...  ...         ...   \n",
       "2943            CIALNARLMFCASSLRATDTQYF       30550  TRA  TRBV7-2*01   \n",
       "2944    CAMREGRYSSASKIIFCATSRAGGGGEKLFF       30551  TRA   TRBV15*01   \n",
       "2945     CLVGDGDGGATNKLIFCASSQGSGGNEQFF       30552  TRA  TRBV4-3*01   \n",
       "2946  CAASVLYGSSNTGKLIFCASSIVGSGGYNEQFF       30554  TRA   TRBV19*01   \n",
       "2947        CAPQGATNKLIFCASSLGAGGQETQYF       30593  TRA  TRBV5-1*01   \n",
       "\n",
       "          species   mhc.a mhc.b  antigen.epitope antigen.gene antigen.species  \n",
       "1     HomoSapiens   HLA-A   B2M       ELAGIGILTV        MLANA     HomoSapiens  \n",
       "2     HomoSapiens  HLA-DQ  DQB1  TAAQAAVVRFQEAAN        CFP10  M.tuberculosis  \n",
       "3     HomoSapiens  HLA-DQ  DQB1  TAAQAAVVRFQEAAN        CFP10  M.tuberculosis  \n",
       "4     HomoSapiens  HLA-DQ  DQB1  TAAQAAVVRFQEAAN        CFP10  M.tuberculosis  \n",
       "5     HomoSapiens  HLA-DR  DRB1  MHVSFVMAYPEMLAA       Rv1195  M.tuberculosis  \n",
       "...           ...     ...   ...              ...          ...             ...  \n",
       "2943  HomoSapiens  HLA-DQ  DQB1     PQPELPYPQPQL       Gluten           Wheat  \n",
       "2944  HomoSapiens  HLA-DQ  DQB1     FPQPEQPFPWQP       Gluten           Wheat  \n",
       "2945  HomoSapiens  HLA-DQ  DQB1     FPQPEQPFPWQP       Gluten           Wheat  \n",
       "2946  HomoSapiens  HLA-DQ  DQB1     QLQPFPQPELPY       Gluten           Wheat  \n",
       "2947  HomoSapiens  HLA-DQ  DQB1    PQQPFPQPEQPFP       Gluten           Wheat  \n",
       "\n",
       "[2947 rows x 10 columns]"
      ]
     },
     "execution_count": 261,
     "metadata": {},
     "output_type": "execute_result"
    }
   ],
   "source": [
    "df= df[df['complex.id'] > 0]\n",
    "df[\"v.segm\"] = v_segm_trb\n",
    "df"
   ]
  },
  {
   "cell_type": "code",
   "execution_count": 262,
   "metadata": {},
   "outputs": [],
   "source": [
    "df_AB=df\n",
    "df_AB=df_AB.drop_duplicates(subset=['combined_cdr3'])\n",
    "df_A=df_A.drop_duplicates(subset=['cdr3'])\n",
    "df_B=df_B.drop_duplicates(subset=['cdr3'])"
   ]
  },
  {
   "cell_type": "code",
   "execution_count": 263,
   "metadata": {},
   "outputs": [],
   "source": [
    "# Drop the column 'gene' from df_AB\n",
    "df_AB = df_AB.drop('gene', axis=1)\n",
    "# Drop the column 'complex.id' from df_AB\n",
    "df_AB = df_AB.drop('complex.id', axis=1)"
   ]
  },
  {
   "cell_type": "code",
   "execution_count": 264,
   "metadata": {},
   "outputs": [],
   "source": [
    "df_A = df_A.drop('gene', axis=1)\n",
    "df_B = df_B.drop('gene', axis=1)"
   ]
  },
  {
   "cell_type": "code",
   "execution_count": 265,
   "metadata": {},
   "outputs": [],
   "source": [
    "import pandas as pd\n",
    "\n",
    "# Assuming df_AB is your DataFrame\n",
    "# Create a function to select 19 characters starting from the 6th position\n",
    "def select_characters_starting_from_6(text):\n",
    "    return text[6:6+19]\n",
    "\n",
    "# Apply the function to the column\n",
    "df_AB['combined_cdr3'] = df_AB['combined_cdr3'].apply(select_characters_starting_from_6)"
   ]
  },
  {
   "cell_type": "code",
   "execution_count": 266,
   "metadata": {},
   "outputs": [],
   "source": [
    "df_A.to_csv('df_AG.txt', sep=\"\\t\", index=False)\n",
    "df_B.to_csv('df_BG.txt', sep=\"\\t\", index=False)\n",
    "df_AB.to_csv('df_AB.txt', sep=\"\\t\", index=False)"
   ]
  }
 ],
 "metadata": {
  "kernelspec": {
   "display_name": "base",
   "language": "python",
   "name": "python3"
  },
  "language_info": {
   "codemirror_mode": {
    "name": "ipython",
    "version": 3
   },
   "file_extension": ".py",
   "mimetype": "text/x-python",
   "name": "python",
   "nbconvert_exporter": "python",
   "pygments_lexer": "ipython3",
   "version": "3.11.5"
  }
 },
 "nbformat": 4,
 "nbformat_minor": 2
}
